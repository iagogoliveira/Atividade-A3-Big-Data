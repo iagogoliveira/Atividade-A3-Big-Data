{
 "cells": [
  {
   "cell_type": "markdown",
   "metadata": {},
   "source": [
    "# Análise de Dados Exploratória Olist E-Commerce Brasil\n",
    "\n",
    "![olist](olist-rastreio.jpg \"Olist\")"
   ]
  },
  {
   "cell_type": "markdown",
   "metadata": {},
   "source": [
    "# 1. Introdução\n",
    "\n",
    "Os dados foram obtidos através de um conjunto de dados público de comércio eletrônico brasileiro de pedidos feitos na Olist Store disponibilizado na plataforma Kaggle, uma comunidade da internet voltada para assuntos relacionados a Data Science. O conjunto contém informações de 100 mil pedidos entre 2016 e 2018, realizados em diversos marketplaces no Brasil. Seus recursos permitem visualizar um pedido de várias dimensões: desde o status do pedido, preço, pagamento e desempenho do frete até a localização do cliente, atributos do produto e, finalmente, avaliações escritas pelos clientes.\n",
    "\n",
    "Ademais, o tratamento dos dados foi realizado através do Alteryx, uma plataforma de análise de dados de automação de processos. Ela fornece diversas opções de ferramentas e recursos para auxiliar na preparação, análise e visualização de dados de maneira rápida e eficiente. Assim, o software foi utilizado para limpeza e transformação dos dados."
   ]
  },
  {
   "cell_type": "markdown",
   "metadata": {},
   "source": [
    "## 1.1. Objetivos\n",
    "\n",
    "O objetivo deste estudo é realizar uma Análise Exploratória dos Dados (Exploratory Data Analysis - EDA) do conjunto de dados `datasetOlist2`, adaptado pelo autor e disponível em [datasetOlist2.xlsx](datasetOlist2.xlsx); a fim de mapear as vendas realizadas via E-commerce no Brasil entre 2016-2018. Especificiamente serão respondidas as seguintes questões de pesquisa:\n",
    "\n",
    "1. Qual é o número total de pedidos?\n",
    "2. Qual é o valor médio dos pedidos?\n",
    "3. Qual é a média de dias até a entrega dos pedidos?\n",
    "4. Qual é a categoria de produto mais comum?\n",
    "5. Qual é o estado que cancela mais pedidos?\n"
   ]
  },
  {
   "cell_type": "markdown",
   "metadata": {},
   "source": [
    "# 2. Metodologia\n",
    "\n",
    "Nesta seção será apresentado todo o processo de preparação, organização e limpeza de dados feito no *dataset* que possui os seguintes dados:\n",
    "\n",
    "| Coluna          | Descrição                                                                 |\n",
    "|-----------------|---------------------------------------------------------------------------|\n",
    "| ID Pedido       | O número que identifica a compra de algum produto feita pelo comprador    |\n",
    "| Status Pedido   | Variável que identifica o andamento do pedido feito pelo comprador        |\n",
    "| Data do Pedido  | Identifica em que o data e hora comprador solicitou seu pedido.           |\n",
    "| Tipo do Pagamento| Variável que exibe de que forma foi o pagamento do comprador.            |\n",
    "| Valor do Pedido  | Valor total do pedido feito pelo comprador, incluindo o frete            |\n",
    "| Data de entrega  | A data e hora em que o comprador recebeu o produto comprado              |\n",
    "| Valor do produto | Somente o valor do produto sem inclusão do frete                         |\n",
    "| Valor do frete   | Valor do frete a ser aplicado no valor total                             |\n",
    "| Categoria do Produto | A qual categoria do produto adquirido pelo comprador pertence.       |\n",
    "| Cidade do vendedor | Qual a cidade que o vendedor reside.                                   |\n",
    "| Estado do vendedor | Qual estado o vendedor reside.                                         |\n",
    "| Dias até Pedido Entregue | Dias até o produto ser entregue ao sair da distribuidora         |\n",
    "\n",
    "## OBSERVAÇÕES\n",
    "\n",
    "- `Status Pedido` Indica se o produto já foi entregue o status mostrará “Pedido Entregue“, ou se o pedido for cancelado “Pedido Cancelado“. Pedidos com outros status foram retirados do dataset;\n",
    "- `Tipo do Pagamento` Indica o método de pagamento, sendo eles: Cartão de crédito, Boleto, Voucher e Cartão de débito;\n",
    "- `Data do pedido` Está formatada o exemplo a seguir: 20/09/2017 23:43:00;\n"
   ]
  },
  {
   "cell_type": "markdown",
   "metadata": {},
   "source": [
    "## 2.1. Configuração do Ambiente"
   ]
  },
  {
   "cell_type": "code",
   "execution_count": null,
   "metadata": {},
   "outputs": [],
   "source": [
    "import pandas as pd"
   ]
  },
  {
   "cell_type": "markdown",
   "metadata": {},
   "source": [
    "## 2.2. Leitura dos Dados"
   ]
  },
  {
   "cell_type": "code",
   "execution_count": null,
   "metadata": {},
   "outputs": [],
   "source": [
    "caminho_arquivo_dados = 'venv/Tabelas/datasetOlist2.xlsx'\n",
     "dados = pd.read_excel(caminho_arquivo_dados, engine='openpyxl')"
   ]
  },
  {
   "cell_type": "markdown",
   "metadata": {},
   "source": [
    "## 2.3. Organização e Limpeza dos Dados"
   ]
  },
  {
   "cell_type": "markdown",
   "metadata": {},
   "source": [
    "### 2.3.1. Visão Geral do Conjunto de Dados"
   ]
  },
  {
   "cell_type": "code",
   "execution_count": null,
   "metadata": {},
   "outputs": [],
   "source": ["print(dados.head())"]
  },
  {
   "cell_type": "markdown",
   "metadata": {},
   "source": [
    "### 2.3.2 Remoção de Colunas e tratamento geral de dados\n",
    "Remoção de colunas incompletas e/ou desnecessárias para a análise e tratamento das variáveis.\n",
    "\n",
    "O tratamento dos dados foi feito via Alteryx Designer([Relatório](relatorioAlteryx.pdf)), foram feitos remoção de linhas e colunas vazias, união de datasets da Olist através de vários Union (utilizando as primary keys como referência), foi adicionado uma coluna extra com os dias corridos para entrega do pedido, e um filtro para que reduzisse o detaset apenas a produtos entregues e cancelados."
   ]
  },
  
  {
   "cell_type": "markdown",
   "metadata": {},
   "source": [
    "# 3. Análise dos Dados"
   ]
  },
  {
   "cell_type": "markdown",
   "metadata": {},
   "source": [
    "## 3.1. Qual é o número de Sobreviventes?"
   ]
  },
  {
   "cell_type": "code",
   "execution_count": null,
   "metadata": {},
   "outputs": [],
   "source": []
  },
  {
   "cell_type": "markdown",
   "metadata": {},
   "source": [
    "## 3.2. Homens ou mulheres tiveram mais chances de sobreviver?"
   ]
  },
  {
   "cell_type": "code",
   "execution_count": null,
   "metadata": {},
   "outputs": [],
   "source": []
  },
  {
   "cell_type": "markdown",
   "metadata": {},
   "source": [
    "## 3.3. Qual classe social teve mais sobreviventes?"
   ]
  },
  {
   "cell_type": "code",
   "execution_count": null,
   "metadata": {},
   "outputs": [],
   "source": []
  },
  {
   "cell_type": "markdown",
   "metadata": {},
   "source": [
    "## 3.4. Qual faixa etária teve mais chances de sobreviver?"
   ]
  },
  {
   "cell_type": "code",
   "execution_count": null,
   "metadata": {},
   "outputs": [],
   "source": []
  },
  {
   "cell_type": "code",
   "execution_count": null,
   "metadata": {},
   "outputs": [],
   "source": []
  },
  {
   "cell_type": "markdown",
   "metadata": {},
   "source": [
    "# REFERÊNCIAS\n",
    "\n",
    "- [Brazilian E-Commerce Public Dataset by Olist](https://www.kaggle.com/datasets/olistbr/brazilian-ecommerce?resource=download)"
   ]
  }
 ],
 "metadata": {
  "kernelspec": {
   "display_name": "Python 3",
   "language": "python",
   "name": "python3"
  },
  "language_info": {
   "codemirror_mode": {
    "name": "ipython",
    "version": 3
   },
   "file_extension": ".py",
   "mimetype": "text/x-python",
   "name": "python",
   "nbconvert_exporter": "python",
   "pygments_lexer": "ipython3",
   "version": "3.7.4"
  }
 },
 "nbformat": 4,
 "nbformat_minor": 4
}
